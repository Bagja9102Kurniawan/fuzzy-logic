{
  "nbformat": 4,
  "nbformat_minor": 0,
  "metadata": {
    "language_info": {
      "codemirror_mode": {
        "name": "ipython",
        "version": 3
      },
      "file_extension": ".py",
      "mimetype": "text/x-python",
      "name": "python",
      "nbconvert_exporter": "python",
      "pygments_lexer": "ipython3",
      "version": "3.7.7-final"
    },
    "orig_nbformat": 2,
    "kernelspec": {
      "name": "Python 3.7.7 64-bit",
      "display_name": "Python 3.7.7 64-bit",
      "metadata": {
        "interpreter": {
          "hash": "9fb070952a3c7a0f0cfe2bee8fd6528ce5023bd4f9dc945281412109f1920b77"
        }
      }
    },
    "colab": {
      "name": "01_IF4305_1301194020.ipynb",
      "provenance": [],
      "collapsed_sections": [],
      "toc_visible": true
    }
  },
  "cells": [
    {
      "cell_type": "markdown",
      "metadata": {
        "id": "CQIMAPnfI-iK"
      },
      "source": [
        "# Fuzzy System\n",
        "Simple application of fuzzy system on restaurant rating assistance using Mamdani Center of Gravity"
      ]
    },
    {
      "cell_type": "markdown",
      "metadata": {
        "id": "G4IZn74DI-iP"
      },
      "source": [
        "## Import Libraries"
      ]
    },
    {
      "cell_type": "code",
      "metadata": {
        "id": "XTBkD80dI-iP"
      },
      "source": [
        "import pandas as pd\n",
        "import matplotlib.pyplot as plt\n",
        "import numpy as np\n",
        "import seaborn as sns"
      ],
      "execution_count": null,
      "outputs": []
    },
    {
      "cell_type": "code",
      "metadata": {
        "id": "QlxUKDlwJjIL",
        "colab": {
          "base_uri": "https://localhost:8080/"
        },
        "outputId": "f0987149-859f-4797-ff9e-14a3dc12cb72"
      },
      "source": [
        "!gdown --id 1K9VJ0WydlUy5XCvnGYX2KijPQZoo4TQ5"
      ],
      "execution_count": null,
      "outputs": [
        {
          "output_type": "stream",
          "text": [
            "Downloading...\n",
            "From: https://drive.google.com/uc?id=1K9VJ0WydlUy5XCvnGYX2KijPQZoo4TQ5\n",
            "To: /content/restoranFuzzy.xlsx\n",
            "\r  0% 0.00/10.5k [00:00<?, ?B/s]\r100% 10.5k/10.5k [00:00<00:00, 15.8MB/s]\n"
          ],
          "name": "stdout"
        }
      ]
    },
    {
      "cell_type": "markdown",
      "metadata": {
        "id": "fYlJEP-QI-iQ"
      },
      "source": [
        "## Load Datasets"
      ]
    },
    {
      "cell_type": "code",
      "metadata": {
        "id": "8hXFgTrqI-iQ"
      },
      "source": [
        "df = pd.read_excel(\"restoranFuzzy.xlsx\")\n",
        "df.set_index('id', inplace=True)"
      ],
      "execution_count": null,
      "outputs": []
    },
    {
      "cell_type": "code",
      "metadata": {
        "id": "aPD5s9kzI-iQ",
        "colab": {
          "base_uri": "https://localhost:8080/"
        },
        "outputId": "77f01d14-ca8c-4393-d1f1-07a312cd9ebb"
      },
      "source": [
        "df.sample(5)"
      ],
      "execution_count": null,
      "outputs": [
        {
          "output_type": "execute_result",
          "data": {
            "text/html": [
              "<div>\n",
              "<style scoped>\n",
              "    .dataframe tbody tr th:only-of-type {\n",
              "        vertical-align: middle;\n",
              "    }\n",
              "\n",
              "    .dataframe tbody tr th {\n",
              "        vertical-align: top;\n",
              "    }\n",
              "\n",
              "    .dataframe thead th {\n",
              "        text-align: right;\n",
              "    }\n",
              "</style>\n",
              "<table border=\"1\" class=\"dataframe\">\n",
              "  <thead>\n",
              "    <tr style=\"text-align: right;\">\n",
              "      <th></th>\n",
              "      <th>pelayanan</th>\n",
              "      <th>makanan</th>\n",
              "    </tr>\n",
              "    <tr>\n",
              "      <th>id</th>\n",
              "      <th></th>\n",
              "      <th></th>\n",
              "    </tr>\n",
              "  </thead>\n",
              "  <tbody>\n",
              "    <tr>\n",
              "      <th>90</th>\n",
              "      <td>10</td>\n",
              "      <td>1</td>\n",
              "    </tr>\n",
              "    <tr>\n",
              "      <th>91</th>\n",
              "      <td>98</td>\n",
              "      <td>3</td>\n",
              "    </tr>\n",
              "    <tr>\n",
              "      <th>80</th>\n",
              "      <td>39</td>\n",
              "      <td>10</td>\n",
              "    </tr>\n",
              "    <tr>\n",
              "      <th>54</th>\n",
              "      <td>64</td>\n",
              "      <td>10</td>\n",
              "    </tr>\n",
              "    <tr>\n",
              "      <th>27</th>\n",
              "      <td>59</td>\n",
              "      <td>8</td>\n",
              "    </tr>\n",
              "  </tbody>\n",
              "</table>\n",
              "</div>"
            ],
            "text/plain": [
              "    pelayanan  makanan\n",
              "id                    \n",
              "90         10        1\n",
              "91         98        3\n",
              "80         39       10\n",
              "54         64       10\n",
              "27         59        8"
            ]
          },
          "metadata": {
            "tags": []
          },
          "execution_count": 25
        }
      ]
    },
    {
      "cell_type": "code",
      "metadata": {
        "colab": {
          "base_uri": "https://localhost:8080/"
        },
        "id": "HXvhvoILNbu0",
        "outputId": "75a47853-2674-43b1-f78d-408f1e79e894"
      },
      "source": [
        "df.max()"
      ],
      "execution_count": null,
      "outputs": [
        {
          "output_type": "execute_result",
          "data": {
            "text/plain": [
              "pelayanan    100\n",
              "makanan       10\n",
              "dtype: int64"
            ]
          },
          "metadata": {
            "tags": []
          },
          "execution_count": 26
        }
      ]
    },
    {
      "cell_type": "code",
      "metadata": {
        "colab": {
          "base_uri": "https://localhost:8080/"
        },
        "id": "1cNU9-YON4jd",
        "outputId": "decbd28d-0a19-4923-c086-d8a89420bfc0"
      },
      "source": [
        "df.min()"
      ],
      "execution_count": null,
      "outputs": [
        {
          "output_type": "execute_result",
          "data": {
            "text/plain": [
              "pelayanan    3\n",
              "makanan      1\n",
              "dtype: int64"
            ]
          },
          "metadata": {
            "tags": []
          },
          "execution_count": 27
        }
      ]
    },
    {
      "cell_type": "code",
      "metadata": {
        "id": "bZAy5rP1I-iR",
        "colab": {
          "base_uri": "https://localhost:8080/"
        },
        "outputId": "8dd37c92-b477-47c1-9df8-3d6df1a1b742"
      },
      "source": [
        "fig, ax = plt.subplots(1, figsize=(12,6))\n",
        "\n",
        "ax = sns.scatterplot(df.pelayanan, df.makanan, label=\"Restoran\")\n",
        "ax.set_title(\"Persebaran data\")\n",
        "ax.grid(alpha=0.2)"
      ],
      "execution_count": null,
      "outputs": [
        {
          "output_type": "stream",
          "text": [
            "/usr/local/lib/python3.7/dist-packages/seaborn/_decorators.py:43: FutureWarning: Pass the following variables as keyword args: x, y. From version 0.12, the only valid positional argument will be `data`, and passing other arguments without an explicit keyword will result in an error or misinterpretation.\n",
            "  FutureWarning\n"
          ],
          "name": "stderr"
        },
        {
          "output_type": "display_data",
          "data": {
            "image/png": "[encoded data removed]",
            "text/plain": [
              "<Figure size 864x432 with 1 Axes>"
            ]
          },
          "metadata": {
            "tags": [],
            "needs_background": "light"
          }
        }
      ]
    },
    {
      "cell_type": "code",
      "metadata": {
        "colab": {
          "base_uri": "https://localhost:8080/"
        },
        "id": "gP-RkLabO000",
        "outputId": "b522be08-04e8-4a7e-b2b3-072e90a5ed09"
      },
      "source": [
        "# fungsi keanggotaan makanan\n",
        "nm = [0.00, 2.00, 5.00, 7.00, 9.50, 10.00]\n",
        "\n",
        "def tidakEnakFunc(x):\n",
        "    if (x <= nm[1]):\n",
        "        return 1\n",
        "    elif (x > nm[2]):\n",
        "        return 0\n",
        "    elif (x > nm[1] and x <= nm[2]):\n",
        "        return (nm[2]-x)/(nm[2]-nm[1])\n",
        "    \n",
        "def enakFunc(x):\n",
        "    if (x <= nm[1] or x > nm[4]):\n",
        "        return 0\n",
        "    elif (x > nm[1] and x <= nm[2]):\n",
        "        return (x-nm[1])/(nm[2]-nm[1])\n",
        "    elif (x > nm[2] and x <= nm[3]):\n",
        "        return 1\n",
        "    elif (x > nm[3] and x <= nm[4]):\n",
        "        return (nm[4]-x)/(nm[4]-nm[3])\n",
        "    \n",
        "def sangatEnakFunc(x):\n",
        "    if (x <= nm[3]):\n",
        "        return 0\n",
        "    elif (x > nm[4]):\n",
        "        return 1\n",
        "    elif (x > nm[3] and x <= h[4]):\n",
        "        return (x-nm[3])/(nm[4]-nm[3])\n",
        "\n",
        "# fungsi keanggotaan penilaian\n",
        "pn = [0.00, 20.00, 50.00, 70.00, 95.00, 100.00]\n",
        "\n",
        "def burukFunc(x):\n",
        "    if (x <= pn[1]):\n",
        "        return 1\n",
        "    elif (x > pn[2]):\n",
        "        return 0\n",
        "    elif (x > pn[1] and x <= pn[2]):\n",
        "        return (pn[2]-x)/(pn[2]-pn[1])\n",
        "    \n",
        "def baikFunc(x):\n",
        "    if (x <= pn[1] or x > pn[4]):\n",
        "        return 0\n",
        "    elif (x > pn[1] and x <= l[2]):\n",
        "        return (x-pn[1])/(pn[2]-pn[1])\n",
        "    elif (x > pn[2] and x <= pn[3]):\n",
        "        return 1\n",
        "    elif (x > pn[3] and x <= pn[4]):\n",
        "        return (pn[4]-x)/(pn[4]-pn[3])\n",
        "    \n",
        "def sangatBaikFunc(x):\n",
        "    if (x <= pn[3]):\n",
        "        return 0\n",
        "    elif (x > pn[4]):\n",
        "        return 1\n",
        "    elif (x > pn[3] and x <= pn[4]):\n",
        "        return (x-pn[3])/(pn[4]-pn[3])\n",
        "    \n",
        "#plot untuk penghasilan function    \n",
        "\n",
        "x1 = [0.00, 2.00, 5.00, 10.00]\n",
        "y1 = [1,1,0,0]\n",
        "\n",
        "x2 = [0.00, 2.00, 5.00, 7.00, 9.50, 10.00]\n",
        "y2 = [0,0,1,1,0,0]\n",
        "\n",
        "x3 = [0.00, 7.00, 9.50, 10.00]\n",
        "y3 = [0,0,1,1]\n",
        "\n",
        "p1 = [0.00, 20.00, 50.00, 100.00]\n",
        "q1 = [1,1,0,0]\n",
        "\n",
        "p2 = [0.00, 20.00, 50.00, 70.00, 95.00, 100.00]\n",
        "q2 = [0,0,1,1,0,0]\n",
        "\n",
        "p3 = [0.00, 70.00, 95.00, 100.00]\n",
        "q3 = [0,0,1,1]\n",
        "\n",
        "fig, ax = plt.subplots(1, 2, figsize=(24,6))\n",
        "ax[0].plot(x1, y1, label=\"Tidak enak\")\n",
        "ax[0].plot(x2, y2, label=\"Enak\")\n",
        "ax[0].plot(x3, y3, label=\"Sangat Enak\")\n",
        "\n",
        "ax[1].plot(p1, q1, label=\"Buruk\")\n",
        "ax[1].plot(p2, q2, label=\"Baik\")\n",
        "ax[1].plot(p3, q3, label=\"Sangat Baik\")\n",
        "\n",
        "ax[0].set_title(\"Fungsi Keanggotaan Makanan\")\n",
        "ax[0].set_xlabel(\"Makanan\")\n",
        "\n",
        "\n",
        "ax[1].set_title(\"Fungsi Keanggotaan Pelayanan\")\n",
        "ax[1].set_xlabel(\"Pelayanan\")\n",
        "\n",
        "ax[0].legend()\n",
        "ax[0].grid(alpha=0.4)\n",
        "\n",
        "ax[1].legend()\n",
        "ax[1].grid(alpha=0.4)\n",
        "\n",
        "plt.show()"
      ],
      "execution_count": null,
      "outputs": [
        {
          "output_type": "display_data",
          "data": {
            "image/png": "[encoded data removed]",
            "text/plain": [
              "<Figure size 1728x432 with 2 Axes>"
            ]
          },
          "metadata": {
            "tags": [],
            "needs_background": "light"
          }
        }
      ]
    },
    {
      "cell_type": "markdown",
      "metadata": {
        "id": "jENZWSATI-iS"
      },
      "source": [
        "## Fuzzification"
      ]
    },
    {
      "cell_type": "code",
      "metadata": {
        "id": "3VHteM0yI-iS"
      },
      "source": [
        "def to_fuzzy_input_makanan(row) : \n",
        "    Makanan = row.makanan\n",
        "    tidak_enak, enak, sangat_enak = 0, 0, 0\n",
        "\n",
        "    # single rule \n",
        "    if Makanan <= nm[1] : \n",
        "        tidak_enak = 1\n",
        "\n",
        "    elif nm[1] <= Makanan <= nm[3] : \n",
        "        enak = 1\n",
        "    \n",
        "    elif Makanan >= nm[3] : \n",
        "        sangat_enak = 1 \n",
        "\n",
        "    if nm[1] < Makanan < nm[2] : \n",
        "        tidak_enak = -(Makanan - nm[2]) / (nm[2] - nm[1]) \n",
        "        enak = (Makanan - nm[1]) / (nm[2] - nm[1]) \n",
        "\n",
        "    elif (nm[3] < Makanan < nm[4]) : \n",
        "        enak = -(Makanan - nm[4]) / (nm[4] - nm[3])\n",
        "        sangat_enak = (Makanan - nm[3]) / (nm[4] - nm[3])\n",
        "\n",
        "    row['tidak_enak'] = tidak_enak \n",
        "    row['enak'] = enak\n",
        "    row['sangat_enak'] = sangat_enak\n",
        "\n",
        "    return row\n",
        "\n",
        "def to_fuzzy_input_pelayanan(row) : \n",
        "    Pelayanan = row.pelayanan\n",
        "    buruk, baik, sangat_baik = 0, 0, 0\n",
        "\n",
        "    # single rule \n",
        "    if Pelayanan <= pn[1] : \n",
        "        buruk = 1\n",
        "\n",
        "    elif pn[1] <= Pelayanan <= pn[3] : \n",
        "        baik = 1\n",
        "    \n",
        "    elif Pelayanan >= pn[3] : \n",
        "        sangat_baik = 1 \n",
        "\n",
        "    if pn[1] < Pelayanan < pn[2] : \n",
        "        buruk = -(Pelayanan - pn[2]) / (pn[2] - pn[1]) \n",
        "        baik = (Pelayanan - pn[1]) / (pn[2] - pn[1]) \n",
        "\n",
        "    elif (pn[3] < Pelayanan < pn[4]) : \n",
        "        baik = -(Pelayanan - pn[4]) / (pn[4] - pn[3])\n",
        "        sangat_baik = (Pelayanan - pn[3]) / (pn[4] - pn[3])\n",
        "\n",
        "    row['buruk'] = buruk \n",
        "    row['baik'] = baik\n",
        "    row['sangat_baik'] = sangat_baik\n",
        "\n",
        "    return row"
      ],
      "execution_count": null,
      "outputs": []
    },
    {
      "cell_type": "markdown",
      "metadata": {
        "id": "jg3GTUkDI-iT"
      },
      "source": [
        "## Inference"
      ]
    },
    {
      "cell_type": "code",
      "metadata": {
        "id": "wiAf-KIjI-iT",
        "colab": {
          "base_uri": "https://localhost:8080/"
        },
        "outputId": "24b1f08e-7bcd-403a-a2ce-874d0d7f2c07"
      },
      "source": [
        "disp = pd.DataFrame({\n",
        "    \"Makanan/Penilaian\" : [\"Tidak Enak\", \"Enak\", \"Sangat Enak\"],\n",
        "    \"Buruk\" : [\"Not Reccomended\", \"Consideration\", \"Consideration\"],\n",
        "    \"Baik\" : [\"Consideration\", \"Reccomended\", \"Reccomended\"],\n",
        "    \"Sangat Baik\" : [\"Consideration\", \"Reccomended\", \"Highly Reccomended\"],\n",
        "})\n",
        "disp.set_index(\"Makanan/Penilaian\")"
      ],
      "execution_count": null,
      "outputs": [
        {
          "output_type": "execute_result",
          "data": {
            "text/html": [
              "<div>\n",
              "<style scoped>\n",
              "    .dataframe tbody tr th:only-of-type {\n",
              "        vertical-align: middle;\n",
              "    }\n",
              "\n",
              "    .dataframe tbody tr th {\n",
              "        vertical-align: top;\n",
              "    }\n",
              "\n",
              "    .dataframe thead th {\n",
              "        text-align: right;\n",
              "    }\n",
              "</style>\n",
              "<table border=\"1\" class=\"dataframe\">\n",
              "  <thead>\n",
              "    <tr style=\"text-align: right;\">\n",
              "      <th></th>\n",
              "      <th>Buruk</th>\n",
              "      <th>Baik</th>\n",
              "      <th>Sangat Baik</th>\n",
              "    </tr>\n",
              "    <tr>\n",
              "      <th>Makanan/Penilaian</th>\n",
              "      <th></th>\n",
              "      <th></th>\n",
              "      <th></th>\n",
              "    </tr>\n",
              "  </thead>\n",
              "  <tbody>\n",
              "    <tr>\n",
              "      <th>Tidak Enak</th>\n",
              "      <td>Not Reccomended</td>\n",
              "      <td>Consideration</td>\n",
              "      <td>Consideration</td>\n",
              "    </tr>\n",
              "    <tr>\n",
              "      <th>Enak</th>\n",
              "      <td>Consideration</td>\n",
              "      <td>Reccomended</td>\n",
              "      <td>Reccomended</td>\n",
              "    </tr>\n",
              "    <tr>\n",
              "      <th>Sangat Enak</th>\n",
              "      <td>Consideration</td>\n",
              "      <td>Reccomended</td>\n",
              "      <td>Highly Reccomended</td>\n",
              "    </tr>\n",
              "  </tbody>\n",
              "</table>\n",
              "</div>"
            ],
            "text/plain": [
              "                             Buruk           Baik         Sangat Baik\n",
              "Makanan/Penilaian                                                    \n",
              "Tidak Enak         Not Reccomended  Consideration       Consideration\n",
              "Enak                 Consideration    Reccomended         Reccomended\n",
              "Sangat Enak          Consideration    Reccomended  Highly Reccomended"
            ]
          },
          "metadata": {
            "tags": []
          },
          "execution_count": 31
        }
      ]
    },
    {
      "cell_type": "code",
      "metadata": {
        "id": "qpjXlYTYI-iT"
      },
      "source": [
        "def inference(row) : \n",
        "\n",
        "    nrec = []\n",
        "    cons = []\n",
        "    reco = []\n",
        "    hrec = []\n",
        "\n",
        "    if row.tidak_enak != 0 and row.buruk != 0 : \n",
        "        nrec.append(min(row.tidak_enak, row.buruk))\n",
        "    if row.tidak_enak != 0 and row.baik != 0 : \n",
        "        cons.append(min(row.tidak_enak, row.baik))\n",
        "    if row.tidak_enak != 0 and row.sangat_baik != 0 : \n",
        "        cons.append(min(row.tidak_enak, row.sangat_baik)) \n",
        "\n",
        "\n",
        "    if row.enak != 0 and row.buruk != 0 : \n",
        "        cons.append(min(row.enak, row.buruk))\n",
        "    if row.enak != 0 and row.baik != 0 : \n",
        "        reco.append(min(row.enak, row.baik))\n",
        "    if row.enak != 0 and row.sangat_baik != 0 : \n",
        "        reco.append(min(row.enak, row.sangat_baik)) \n",
        "\n",
        "\n",
        "    if row.sangat_enak != 0 and row.buruk != 0 : \n",
        "        cons.append(min(row.sangat_enak, row.buruk))\n",
        "    if row.sangat_enak != 0 and row.baik != 0 : \n",
        "        reco.append(min(row.sangat_enak, row.baik))\n",
        "    if row.sangat_enak != 0 and row.sangat_baik != 0 : \n",
        "        hrec.append(min(row.sangat_enak, row.sangat_baik))  \n",
        "    \n",
        "    nrec = 0 if not nrec else max(nrec)\n",
        "    cons = 0 if not cons else max(cons)\n",
        "    reco = 0 if not reco else max(reco)\n",
        "    hrec = 0 if not hrec else max(hrec)\n",
        "\n",
        "    row['nrec'] = nrec\n",
        "    row['cons'] = cons\n",
        "    row['reco'] = reco\n",
        "    row['hrec'] = hrec\n",
        "\n",
        "    return row"
      ],
      "execution_count": null,
      "outputs": []
    },
    {
      "cell_type": "code",
      "metadata": {
        "id": "ioLplBaFI-iU"
      },
      "source": [
        "# Fuzzification apply\n",
        "df = df.apply(lambda x : to_fuzzy_input_makanan(x), axis=1)\n",
        "df = df.apply(lambda x : to_fuzzy_input_pelayanan(x), axis=1)\n",
        "\n",
        "\n",
        "# Inference apply\n",
        "df = df.apply(lambda x : inference(x), axis=1)"
      ],
      "execution_count": null,
      "outputs": []
    },
    {
      "cell_type": "code",
      "metadata": {
        "id": "54pGUJmUI-iU",
        "colab": {
          "base_uri": "https://localhost:8080/"
        },
        "outputId": "2043b669-1b4e-4a8b-b512-16600443c232"
      },
      "source": [
        "df.sample(5)"
      ],
      "execution_count": null,
      "outputs": [
        {
          "output_type": "execute_result",
          "data": {
            "text/html": [
              "<div>\n",
              "<style scoped>\n",
              "    .dataframe tbody tr th:only-of-type {\n",
              "        vertical-align: middle;\n",
              "    }\n",
              "\n",
              "    .dataframe tbody tr th {\n",
              "        vertical-align: top;\n",
              "    }\n",
              "\n",
              "    .dataframe thead th {\n",
              "        text-align: right;\n",
              "    }\n",
              "</style>\n",
              "<table border=\"1\" class=\"dataframe\">\n",
              "  <thead>\n",
              "    <tr style=\"text-align: right;\">\n",
              "      <th></th>\n",
              "      <th>pelayanan</th>\n",
              "      <th>makanan</th>\n",
              "      <th>tidak_enak</th>\n",
              "      <th>enak</th>\n",
              "      <th>sangat_enak</th>\n",
              "      <th>buruk</th>\n",
              "      <th>baik</th>\n",
              "      <th>sangat_baik</th>\n",
              "      <th>nrec</th>\n",
              "      <th>cons</th>\n",
              "      <th>reco</th>\n",
              "      <th>hrec</th>\n",
              "    </tr>\n",
              "    <tr>\n",
              "      <th>id</th>\n",
              "      <th></th>\n",
              "      <th></th>\n",
              "      <th></th>\n",
              "      <th></th>\n",
              "      <th></th>\n",
              "      <th></th>\n",
              "      <th></th>\n",
              "      <th></th>\n",
              "      <th></th>\n",
              "      <th></th>\n",
              "      <th></th>\n",
              "      <th></th>\n",
              "    </tr>\n",
              "  </thead>\n",
              "  <tbody>\n",
              "    <tr>\n",
              "      <th>31</th>\n",
              "      <td>74.0</td>\n",
              "      <td>9.0</td>\n",
              "      <td>0.000000</td>\n",
              "      <td>0.200000</td>\n",
              "      <td>0.8</td>\n",
              "      <td>0.0</td>\n",
              "      <td>0.84</td>\n",
              "      <td>0.16</td>\n",
              "      <td>0.000000</td>\n",
              "      <td>0.000000</td>\n",
              "      <td>0.800000</td>\n",
              "      <td>0.16</td>\n",
              "    </tr>\n",
              "    <tr>\n",
              "      <th>78</th>\n",
              "      <td>20.0</td>\n",
              "      <td>1.0</td>\n",
              "      <td>1.000000</td>\n",
              "      <td>0.000000</td>\n",
              "      <td>0.0</td>\n",
              "      <td>1.0</td>\n",
              "      <td>0.00</td>\n",
              "      <td>0.00</td>\n",
              "      <td>1.000000</td>\n",
              "      <td>0.000000</td>\n",
              "      <td>0.000000</td>\n",
              "      <td>0.00</td>\n",
              "    </tr>\n",
              "    <tr>\n",
              "      <th>23</th>\n",
              "      <td>18.0</td>\n",
              "      <td>4.0</td>\n",
              "      <td>0.333333</td>\n",
              "      <td>0.666667</td>\n",
              "      <td>0.0</td>\n",
              "      <td>1.0</td>\n",
              "      <td>0.00</td>\n",
              "      <td>0.00</td>\n",
              "      <td>0.333333</td>\n",
              "      <td>0.666667</td>\n",
              "      <td>0.000000</td>\n",
              "      <td>0.00</td>\n",
              "    </tr>\n",
              "    <tr>\n",
              "      <th>28</th>\n",
              "      <td>44.0</td>\n",
              "      <td>3.0</td>\n",
              "      <td>0.666667</td>\n",
              "      <td>0.333333</td>\n",
              "      <td>0.0</td>\n",
              "      <td>0.2</td>\n",
              "      <td>0.80</td>\n",
              "      <td>0.00</td>\n",
              "      <td>0.200000</td>\n",
              "      <td>0.666667</td>\n",
              "      <td>0.333333</td>\n",
              "      <td>0.00</td>\n",
              "    </tr>\n",
              "    <tr>\n",
              "      <th>79</th>\n",
              "      <td>87.0</td>\n",
              "      <td>9.0</td>\n",
              "      <td>0.000000</td>\n",
              "      <td>0.200000</td>\n",
              "      <td>0.8</td>\n",
              "      <td>0.0</td>\n",
              "      <td>0.32</td>\n",
              "      <td>0.68</td>\n",
              "      <td>0.000000</td>\n",
              "      <td>0.000000</td>\n",
              "      <td>0.320000</td>\n",
              "      <td>0.68</td>\n",
              "    </tr>\n",
              "  </tbody>\n",
              "</table>\n",
              "</div>"
            ],
            "text/plain": [
              "    pelayanan  makanan  tidak_enak  ...      cons      reco  hrec\n",
              "id                                  ...                          \n",
              "31       74.0      9.0    0.000000  ...  0.000000  0.800000  0.16\n",
              "78       20.0      1.0    1.000000  ...  0.000000  0.000000  0.00\n",
              "23       18.0      4.0    0.333333  ...  0.666667  0.000000  0.00\n",
              "28       44.0      3.0    0.666667  ...  0.666667  0.333333  0.00\n",
              "79       87.0      9.0    0.000000  ...  0.000000  0.320000  0.68\n",
              "\n",
              "[5 rows x 12 columns]"
            ]
          },
          "metadata": {
            "tags": []
          },
          "execution_count": 34
        }
      ]
    },
    {
      "cell_type": "markdown",
      "metadata": {
        "id": "xkd5-EQyI-iU"
      },
      "source": [
        "## Defuzzification - Mamdani"
      ]
    },
    {
      "cell_type": "code",
      "metadata": {
        "id": "HOoh_0FsI-iU"
      },
      "source": [
        "import random\n",
        "random.seed = 42 # the answer of life :)\n",
        "n = np.random.randint(0, 100, size=(10))\n",
        "df_m = pd.DataFrame({'z' : sorted(n)})"
      ],
      "execution_count": null,
      "outputs": []
    },
    {
      "cell_type": "code",
      "metadata": {
        "colab": {
          "base_uri": "https://localhost:8080/"
        },
        "id": "m1GLp_CoCHsY",
        "outputId": "387c5a0b-ce0b-4d2e-86a2-e52aac061340"
      },
      "source": [
        "df.loc[(df['hrec'] > 0)].head()"
      ],
      "execution_count": null,
      "outputs": [
        {
          "output_type": "execute_result",
          "data": {
            "text/html": [
              "<div>\n",
              "<style scoped>\n",
              "    .dataframe tbody tr th:only-of-type {\n",
              "        vertical-align: middle;\n",
              "    }\n",
              "\n",
              "    .dataframe tbody tr th {\n",
              "        vertical-align: top;\n",
              "    }\n",
              "\n",
              "    .dataframe thead th {\n",
              "        text-align: right;\n",
              "    }\n",
              "</style>\n",
              "<table border=\"1\" class=\"dataframe\">\n",
              "  <thead>\n",
              "    <tr style=\"text-align: right;\">\n",
              "      <th></th>\n",
              "      <th>pelayanan</th>\n",
              "      <th>makanan</th>\n",
              "      <th>tidak_enak</th>\n",
              "      <th>enak</th>\n",
              "      <th>sangat_enak</th>\n",
              "      <th>buruk</th>\n",
              "      <th>baik</th>\n",
              "      <th>sangat_baik</th>\n",
              "      <th>nrec</th>\n",
              "      <th>cons</th>\n",
              "      <th>reco</th>\n",
              "      <th>hrec</th>\n",
              "      <th>score</th>\n",
              "    </tr>\n",
              "    <tr>\n",
              "      <th>id</th>\n",
              "      <th></th>\n",
              "      <th></th>\n",
              "      <th></th>\n",
              "      <th></th>\n",
              "      <th></th>\n",
              "      <th></th>\n",
              "      <th></th>\n",
              "      <th></th>\n",
              "      <th></th>\n",
              "      <th></th>\n",
              "      <th></th>\n",
              "      <th></th>\n",
              "      <th></th>\n",
              "    </tr>\n",
              "  </thead>\n",
              "  <tbody>\n",
              "    <tr>\n",
              "      <th>42</th>\n",
              "      <td>94.0</td>\n",
              "      <td>10.0</td>\n",
              "      <td>0.0</td>\n",
              "      <td>0.0</td>\n",
              "      <td>1.0</td>\n",
              "      <td>0.0</td>\n",
              "      <td>0.04</td>\n",
              "      <td>0.96</td>\n",
              "      <td>0.0</td>\n",
              "      <td>0.0</td>\n",
              "      <td>0.04</td>\n",
              "      <td>0.96</td>\n",
              "      <td>94.673077</td>\n",
              "    </tr>\n",
              "    <tr>\n",
              "      <th>24</th>\n",
              "      <td>100.0</td>\n",
              "      <td>9.0</td>\n",
              "      <td>0.0</td>\n",
              "      <td>0.2</td>\n",
              "      <td>0.8</td>\n",
              "      <td>0.0</td>\n",
              "      <td>0.00</td>\n",
              "      <td>1.00</td>\n",
              "      <td>0.0</td>\n",
              "      <td>0.0</td>\n",
              "      <td>0.20</td>\n",
              "      <td>0.80</td>\n",
              "      <td>89.782609</td>\n",
              "    </tr>\n",
              "    <tr>\n",
              "      <th>79</th>\n",
              "      <td>87.0</td>\n",
              "      <td>9.0</td>\n",
              "      <td>0.0</td>\n",
              "      <td>0.2</td>\n",
              "      <td>0.8</td>\n",
              "      <td>0.0</td>\n",
              "      <td>0.32</td>\n",
              "      <td>0.68</td>\n",
              "      <td>0.0</td>\n",
              "      <td>0.0</td>\n",
              "      <td>0.32</td>\n",
              "      <td>0.68</td>\n",
              "      <td>87.165289</td>\n",
              "    </tr>\n",
              "    <tr>\n",
              "      <th>69</th>\n",
              "      <td>86.0</td>\n",
              "      <td>10.0</td>\n",
              "      <td>0.0</td>\n",
              "      <td>0.0</td>\n",
              "      <td>1.0</td>\n",
              "      <td>0.0</td>\n",
              "      <td>0.36</td>\n",
              "      <td>0.64</td>\n",
              "      <td>0.0</td>\n",
              "      <td>0.0</td>\n",
              "      <td>0.36</td>\n",
              "      <td>0.64</td>\n",
              "      <td>86.349593</td>\n",
              "    </tr>\n",
              "    <tr>\n",
              "      <th>22</th>\n",
              "      <td>79.0</td>\n",
              "      <td>9.0</td>\n",
              "      <td>0.0</td>\n",
              "      <td>0.2</td>\n",
              "      <td>0.8</td>\n",
              "      <td>0.0</td>\n",
              "      <td>0.64</td>\n",
              "      <td>0.36</td>\n",
              "      <td>0.0</td>\n",
              "      <td>0.0</td>\n",
              "      <td>0.64</td>\n",
              "      <td>0.36</td>\n",
              "      <td>81.306569</td>\n",
              "    </tr>\n",
              "  </tbody>\n",
              "</table>\n",
              "</div>"
            ],
            "text/plain": [
              "    pelayanan  makanan  tidak_enak  enak  ...  cons  reco  hrec      score\n",
              "id                                        ...                             \n",
              "42       94.0     10.0         0.0   0.0  ...   0.0  0.04  0.96  94.673077\n",
              "24      100.0      9.0         0.0   0.2  ...   0.0  0.20  0.80  89.782609\n",
              "79       87.0      9.0         0.0   0.2  ...   0.0  0.32  0.68  87.165289\n",
              "69       86.0     10.0         0.0   0.0  ...   0.0  0.36  0.64  86.349593\n",
              "22       79.0      9.0         0.0   0.2  ...   0.0  0.64  0.36  81.306569\n",
              "\n",
              "[5 rows x 13 columns]"
            ]
          },
          "metadata": {
            "tags": []
          },
          "execution_count": 2759
        }
      ]
    },
    {
      "cell_type": "code",
      "metadata": {
        "id": "j24kVJkJI-iV"
      },
      "source": [
        "def get_base_mamdani_dataframe(row) : \n",
        "    z = row.z\n",
        "    reject = 0\n",
        "    acc = 0\n",
        "\n",
        "    kecil, sedang, besar, sangat_besar = 0, 0, 0, 0\n",
        "\n",
        "    # single rule\n",
        "    if z <= 40 : \n",
        "        kecil = 1\n",
        "\n",
        "    elif z >= 90 : \n",
        "        sangat_besar = 1\n",
        "\n",
        "    elif 50 <= z <= 60: \n",
        "        sedang = 1\n",
        "    \n",
        "    elif 70 <= z <= 80: \n",
        "        besar = 1\n",
        "\n",
        "    # Multiple intersection rule \n",
        "    if 40 < z < 50 : \n",
        "        kecil = -(z - 50) / (50 - 40)\n",
        "        sedang = (z - 40) / (50 - 40)\n",
        "    \n",
        "    elif 60 < z < 70 : \n",
        "        sedang = -(z - 70) / (70 - 60)\n",
        "        besar =   (z - 60  ) / (70 - 60)\n",
        "\n",
        "    elif 80 < z < 90 : \n",
        "        sedang = -(z - 90 ) / (90 - 80)\n",
        "        sangat_besar = (z - 80) / (90 - 80)\n",
        "\n",
        "    row['nrec'] = kecil\n",
        "    row['cons'] = sedang\n",
        "    row['reco'] = besar \n",
        "    row['hrec'] = sangat_besar\n",
        "\n",
        "\n",
        "    return row   \n",
        "\n",
        "def get_mamdani_matrix(row, df_m) :\n",
        "\n",
        "    # helper function\n",
        "    def get_membership_vector(row, nrec, cons, reco, hrec) : \n",
        "        nrec = min(row.nrec, nrec)\n",
        "        cons  = min(row.cons, cons)\n",
        "        reco  = min(row.reco, reco)\n",
        "        hrec = min(row.hrec, hrec)\n",
        "\n",
        "        return max(nrec, cons, reco, hrec)\n",
        "        \n",
        "\n",
        "    nrec = row.nrec\n",
        "    cons = row.cons\n",
        "    reco = row.reco\n",
        "    hrec = row.hrec\n",
        "\n",
        "    matrix = df_m.apply(lambda x : get_membership_vector(x, nrec, cons, reco, hrec), axis=1)\n",
        "    return matrix"
      ],
      "execution_count": null,
      "outputs": []
    },
    {
      "cell_type": "code",
      "metadata": {
        "colab": {
          "base_uri": "https://localhost:8080/"
        },
        "id": "1Od3osE1ZKDK",
        "outputId": "8381a2ee-0346-4759-c854-43a53fe3d030"
      },
      "source": [
        "x1 = [0, 40, 50]\n",
        "y1 = [1, 1, 0]\n",
        "\n",
        "x2 = [40, 50, 60, 70]\n",
        "y2 = [0, 1, 1, 0]\n",
        "\n",
        "x3 = [60, 70, 80, 90]\n",
        "y3 = [0, 1, 1, 0]\n",
        "\n",
        "x4 = [80, 90, 100]\n",
        "y4 = [0, 1, 1]\n",
        "\n",
        "plt.plot(x1, y1, label='Not Reccomended')\n",
        "plt.plot(x2, y2, label='Considerated')\n",
        "plt.plot(x3, y3, label='Reccomended')\n",
        "plt.plot(x4, y4, label='Highly Reccomended')\n",
        "plt.title('Fungsi Keanggotaan Defuzzy')\n",
        "plt.xlabel(\"penilaian\")\n",
        "plt.legend()\n",
        "plt.grid(alpha=0.4)"
      ],
      "execution_count": null,
      "outputs": [
        {
          "output_type": "display_data",
          "data": {
            "image/png": "[encoded data removed]",
            "text/plain": [
              "<Figure size 432x288 with 1 Axes>"
            ]
          },
          "metadata": {
            "tags": [],
            "needs_background": "light"
          }
        }
      ]
    },
    {
      "cell_type": "code",
      "metadata": {
        "id": "zTYbFiA_I-iV",
        "colab": {
          "base_uri": "https://localhost:8080/"
        },
        "outputId": "0107ebc6-8ad4-4cc9-8943-8fdf6b90c8eb"
      },
      "source": [
        "# Mamdani membership dataframe\n",
        "df_m = df_m.apply(lambda x : get_base_mamdani_dataframe(x), axis=1)\n",
        "df_m"
      ],
      "execution_count": null,
      "outputs": [
        {
          "output_type": "execute_result",
          "data": {
            "text/html": [
              "<div>\n",
              "<style scoped>\n",
              "    .dataframe tbody tr th:only-of-type {\n",
              "        vertical-align: middle;\n",
              "    }\n",
              "\n",
              "    .dataframe tbody tr th {\n",
              "        vertical-align: top;\n",
              "    }\n",
              "\n",
              "    .dataframe thead th {\n",
              "        text-align: right;\n",
              "    }\n",
              "</style>\n",
              "<table border=\"1\" class=\"dataframe\">\n",
              "  <thead>\n",
              "    <tr style=\"text-align: right;\">\n",
              "      <th></th>\n",
              "      <th>z</th>\n",
              "      <th>nrec</th>\n",
              "      <th>cons</th>\n",
              "      <th>reco</th>\n",
              "      <th>hrec</th>\n",
              "    </tr>\n",
              "  </thead>\n",
              "  <tbody>\n",
              "    <tr>\n",
              "      <th>0</th>\n",
              "      <td>12.0</td>\n",
              "      <td>1.0</td>\n",
              "      <td>0.0</td>\n",
              "      <td>0.0</td>\n",
              "      <td>0.0</td>\n",
              "    </tr>\n",
              "    <tr>\n",
              "      <th>1</th>\n",
              "      <td>18.0</td>\n",
              "      <td>1.0</td>\n",
              "      <td>0.0</td>\n",
              "      <td>0.0</td>\n",
              "      <td>0.0</td>\n",
              "    </tr>\n",
              "    <tr>\n",
              "      <th>2</th>\n",
              "      <td>20.0</td>\n",
              "      <td>1.0</td>\n",
              "      <td>0.0</td>\n",
              "      <td>0.0</td>\n",
              "      <td>0.0</td>\n",
              "    </tr>\n",
              "    <tr>\n",
              "      <th>3</th>\n",
              "      <td>69.0</td>\n",
              "      <td>0.0</td>\n",
              "      <td>0.1</td>\n",
              "      <td>0.9</td>\n",
              "      <td>0.0</td>\n",
              "    </tr>\n",
              "    <tr>\n",
              "      <th>4</th>\n",
              "      <td>70.0</td>\n",
              "      <td>0.0</td>\n",
              "      <td>0.0</td>\n",
              "      <td>1.0</td>\n",
              "      <td>0.0</td>\n",
              "    </tr>\n",
              "    <tr>\n",
              "      <th>5</th>\n",
              "      <td>75.0</td>\n",
              "      <td>0.0</td>\n",
              "      <td>0.0</td>\n",
              "      <td>1.0</td>\n",
              "      <td>0.0</td>\n",
              "    </tr>\n",
              "    <tr>\n",
              "      <th>6</th>\n",
              "      <td>80.0</td>\n",
              "      <td>0.0</td>\n",
              "      <td>0.0</td>\n",
              "      <td>1.0</td>\n",
              "      <td>0.0</td>\n",
              "    </tr>\n",
              "    <tr>\n",
              "      <th>7</th>\n",
              "      <td>92.0</td>\n",
              "      <td>0.0</td>\n",
              "      <td>0.0</td>\n",
              "      <td>0.0</td>\n",
              "      <td>1.0</td>\n",
              "    </tr>\n",
              "    <tr>\n",
              "      <th>8</th>\n",
              "      <td>94.0</td>\n",
              "      <td>0.0</td>\n",
              "      <td>0.0</td>\n",
              "      <td>0.0</td>\n",
              "      <td>1.0</td>\n",
              "    </tr>\n",
              "    <tr>\n",
              "      <th>9</th>\n",
              "      <td>97.0</td>\n",
              "      <td>0.0</td>\n",
              "      <td>0.0</td>\n",
              "      <td>0.0</td>\n",
              "      <td>1.0</td>\n",
              "    </tr>\n",
              "  </tbody>\n",
              "</table>\n",
              "</div>"
            ],
            "text/plain": [
              "      z  nrec  cons  reco  hrec\n",
              "0  12.0   1.0   0.0   0.0   0.0\n",
              "1  18.0   1.0   0.0   0.0   0.0\n",
              "2  20.0   1.0   0.0   0.0   0.0\n",
              "3  69.0   0.0   0.1   0.9   0.0\n",
              "4  70.0   0.0   0.0   1.0   0.0\n",
              "5  75.0   0.0   0.0   1.0   0.0\n",
              "6  80.0   0.0   0.0   1.0   0.0\n",
              "7  92.0   0.0   0.0   0.0   1.0\n",
              "8  94.0   0.0   0.0   0.0   1.0\n",
              "9  97.0   0.0   0.0   0.0   1.0"
            ]
          },
          "metadata": {
            "tags": []
          },
          "execution_count": 2762
        }
      ]
    },
    {
      "cell_type": "markdown",
      "metadata": {
        "id": "wLibk-vXI-iV"
      },
      "source": [
        "### Defuzzification Mamdani\n",
        "#### Center of Gravity"
      ]
    },
    {
      "cell_type": "code",
      "metadata": {
        "id": "UEGbLiy9I-iV"
      },
      "source": [
        "matrix = df.apply(lambda x : get_mamdani_matrix(x, df_m), axis=1)\n",
        "\n",
        "# dot product (100x10) (10x1) => (100x1) \n",
        "top_dot =  matrix @ df_m['z']\n",
        "bot_sum = matrix.sum(axis=1)\n",
        "\n",
        "df['score'] = top_dot / bot_sum\n",
        "df.sort_values('score',ascending=False, inplace=True)"
      ],
      "execution_count": null,
      "outputs": []
    },
    {
      "cell_type": "markdown",
      "metadata": {
        "id": "lfogLP8II-iW"
      },
      "source": [
        "## Submission"
      ]
    },
    {
      "cell_type": "code",
      "metadata": {
        "id": "SIXS3eSXI-iW"
      },
      "source": [
        "sub = df[:10]\n",
        "sub.reset_index(inplace=True)\n",
        "sub.id.to_excel(\"peringkat.xls\", index=False)"
      ],
      "execution_count": null,
      "outputs": []
    },
    {
      "cell_type": "markdown",
      "metadata": {
        "id": "09cTHHcNI-iW"
      },
      "source": [
        "## Result Plot"
      ]
    },
    {
      "cell_type": "code",
      "metadata": {
        "id": "cpJL5hmYI-iW",
        "colab": {
          "base_uri": "https://localhost:8080/",
          "height": 496
        },
        "outputId": "517fb286-a053-456c-e684-6ad5c70bf737"
      },
      "source": [
        "fig, ax = plt.subplots(1, figsize=(12,6))\n",
        "\n",
        "df_best = df.iloc[:10]\n",
        "df_rest = df.iloc[10:]\n",
        "\n",
        "ax = sns.scatterplot(df_best.pelayanan, df_best.makanan, label=\"10 restoran terbaik\", color='#FEEB34')\n",
        "ax = sns.scatterplot(df_rest.pelayanan, df_rest.makanan, label=\"Restoran lainnya\", color='#5DADE2')\n",
        "ax.set_title(\"Persebaran data\")\n",
        "ax.grid(alpha=0.4)"
      ],
      "execution_count": null,
      "outputs": [
        {
          "output_type": "stream",
          "text": [
            "/usr/local/lib/python3.7/dist-packages/seaborn/_decorators.py:43: FutureWarning: Pass the following variables as keyword args: x, y. From version 0.12, the only valid positional argument will be `data`, and passing other arguments without an explicit keyword will result in an error or misinterpretation.\n",
            "  FutureWarning\n",
            "/usr/local/lib/python3.7/dist-packages/seaborn/_decorators.py:43: FutureWarning: Pass the following variables as keyword args: x, y. From version 0.12, the only valid positional argument will be `data`, and passing other arguments without an explicit keyword will result in an error or misinterpretation.\n",
            "  FutureWarning\n"
          ],
          "name": "stderr"
        },
        {
          "output_type": "display_data",
          "data": {
            "image/png": "[encoded data removed]",
            "text/plain": [
              "<Figure size 864x432 with 1 Axes>"
            ]
          },
          "metadata": {
            "tags": [],
            "needs_background": "light"
          }
        }
      ]
    },
    {
      "cell_type": "code",
      "metadata": {
        "id": "YgvY-Afw14-n"
      },
      "source": [
        ""
      ],
      "execution_count": null,
      "outputs": []
    }
  ]
}